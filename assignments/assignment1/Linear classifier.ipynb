{
 "cells": [
  {
   "cell_type": "markdown",
   "metadata": {},
   "source": [
    "# Задание 1.2 - Линейный классификатор (Linear classifier)\n",
    "\n",
    "В этом задании мы реализуем другую модель машинного обучения - линейный классификатор. Линейный классификатор подбирает для каждого класса веса, на которые нужно умножить значение каждого признака и потом сложить вместе.\n",
    "Тот класс, у которого эта сумма больше, и является предсказанием модели.\n",
    "\n",
    "В этом задании вы:\n",
    "- потренируетесь считать градиенты различных многомерных функций\n",
    "- реализуете подсчет градиентов через линейную модель и функцию потерь softmax\n",
    "- реализуете процесс тренировки линейного классификатора\n",
    "- подберете параметры тренировки на практике\n",
    "\n",
    "На всякий случай, еще раз ссылка на туториал по numpy:  \n",
    "http://cs231n.github.io/python-numpy-tutorial/"
   ]
  },
  {
   "cell_type": "code",
   "execution_count": 12,
   "metadata": {},
   "outputs": [
    {
     "output_type": "stream",
     "name": "stdout",
     "text": [
      "The autoreload extension is already loaded. To reload it, use:\n  %reload_ext autoreload\n"
     ]
    }
   ],
   "source": [
    "import numpy as np\n",
    "import matplotlib.pyplot as plt\n",
    "\n",
    "%matplotlib inline\n",
    "\n",
    "%load_ext autoreload\n",
    "%autoreload 2"
   ]
  },
  {
   "cell_type": "code",
   "execution_count": 13,
   "metadata": {},
   "outputs": [],
   "source": [
    "from dataset import load_svhn, random_split_train_val\n",
    "from gradient_check import check_gradient\n",
    "from metrics import multiclass_accuracy \n",
    "import linear_classifer"
   ]
  },
  {
   "cell_type": "markdown",
   "metadata": {},
   "source": [
    "# Как всегда, первым делом загружаем данные\n",
    "\n",
    "Мы будем использовать все тот же SVHN."
   ]
  },
  {
   "cell_type": "code",
   "execution_count": 14,
   "metadata": {},
   "outputs": [],
   "source": [
    "def prepare_for_linear_classifier(train_X, test_X):\n",
    "    train_flat = train_X.reshape(train_X.shape[0], -1).astype(np.float) / 255.0\n",
    "    test_flat = test_X.reshape(test_X.shape[0], -1).astype(np.float) / 255.0\n",
    "    \n",
    "    # Subtract mean\n",
    "    mean_image = np.mean(train_flat, axis = 0)\n",
    "    train_flat -= mean_image\n",
    "    test_flat -= mean_image\n",
    "    \n",
    "    # Add another channel with ones as a bias term\n",
    "    train_flat_with_ones = np.hstack([train_flat, np.ones((train_X.shape[0], 1))])\n",
    "    test_flat_with_ones = np.hstack([test_flat, np.ones((test_X.shape[0], 1))])    \n",
    "    return train_flat_with_ones, test_flat_with_ones\n",
    "    \n",
    "train_X, train_y, test_X, test_y = load_svhn(\"data\", max_train=10000, max_test=1000)    \n",
    "train_X, test_X = prepare_for_linear_classifier(train_X, test_X)\n",
    "# Split train into train and val\n",
    "train_X, train_y, val_X, val_y = random_split_train_val(train_X, train_y, num_val = 1000)"
   ]
  },
  {
   "cell_type": "markdown",
   "metadata": {},
   "source": [
    "# Играемся с градиентами!\n",
    "\n",
    "В этом курсе мы будем писать много функций, которые вычисляют градиенты аналитическим методом.\n",
    "\n",
    "Все функции, в которых мы будем вычислять градиенты, будут написаны по одной и той же схеме.  \n",
    "Они будут получать на вход точку, где нужно вычислить значение и градиент функции, а на выходе будут выдавать кортеж (tuple) из двух значений - собственно значения функции в этой точке (всегда одно число) и аналитического значения градиента в той же точке (той же размерности, что и вход).\n",
    "```\n",
    "def f(x):\n",
    "    \"\"\"\n",
    "    Computes function and analytic gradient at x\n",
    "    \n",
    "    x: np array of float, input to the function\n",
    "    \n",
    "    Returns:\n",
    "    value: float, value of the function \n",
    "    grad: np array of float, same shape as x\n",
    "    \"\"\"\n",
    "    ...\n",
    "    \n",
    "    return value, grad\n",
    "```\n",
    "\n",
    "Необходимым инструментом во время реализации кода, вычисляющего градиенты, является функция его проверки. Эта функция вычисляет градиент численным методом и сверяет результат с градиентом, вычисленным аналитическим методом.\n",
    "\n",
    "Мы начнем с того, чтобы реализовать вычисление численного градиента (numeric gradient) в функции `check_gradient` в `gradient_check.py`. Эта функция будет принимать на вход функции формата, заданного выше, использовать значение `value` для вычисления численного градиента и сравнит его с аналитическим - они должны сходиться.\n",
    "\n",
    "Напишите часть функции, которая вычисляет градиент с помощью численной производной для каждой координаты. Для вычисления производной используйте так называемую two-point formula (https://en.wikipedia.org/wiki/Numerical_differentiation):\n",
    "\n",
    "![image](https://wikimedia.org/api/rest_v1/media/math/render/svg/22fc2c0a66c63560a349604f8b6b39221566236d)\n",
    "\n",
    "Все функции приведенные в следующей клетке должны проходить gradient check."
   ]
  },
  {
   "cell_type": "code",
   "execution_count": 202,
   "metadata": {
    "scrolled": true
   },
   "outputs": [
    {
     "output_type": "stream",
     "name": "stdout",
     "text": [
      "(1,)\n(1,)\nGradient check passed!\n(2,)\n(2,)\nGradient check passed!\n(2, 2)\n(2, 2)\nGradient check passed!\n"
     ]
    },
    {
     "output_type": "execute_result",
     "data": {
      "text/plain": [
       "True"
      ]
     },
     "metadata": {},
     "execution_count": 202
    }
   ],
   "source": [
    "# TODO: Implement check_gradient function in gradient_check.py\n",
    "# All the functions below should pass the gradient check\n",
    "\n",
    "def square(x):\n",
    "    return float(x*x), 2*x\n",
    "\n",
    "check_gradient(square, np.array([3.0]))\n",
    "\n",
    "def array_sum(x):\n",
    "    assert x.shape == (2,), x.shape\n",
    "    return np.sum(x), np.ones_like(x)\n",
    "\n",
    "check_gradient(array_sum, np.array([3.0, 2.0]))\n",
    "\n",
    "def array_2d_sum(x):\n",
    "    assert x.shape == (2,2)\n",
    "    return np.sum(x), np.ones_like(x)\n",
    "\n",
    "check_gradient(array_2d_sum, np.array([[3.0, 2.0], [1.0, 0.0]]))\n",
    "\n"
   ]
  },
  {
   "cell_type": "markdown",
   "metadata": {},
   "source": [
    "## Начинаем писать свои функции, считающие аналитический градиент\n",
    "\n",
    "Теперь реализуем функцию softmax, которая получает на вход оценки для каждого класса и преобразует их в вероятности от 0 до 1:\n",
    "![image](https://wikimedia.org/api/rest_v1/media/math/render/svg/e348290cf48ddbb6e9a6ef4e39363568b67c09d3)\n",
    "\n",
    "**Важно:** Практический аспект вычисления этой функции заключается в том, что в ней учавствует вычисление экспоненты от потенциально очень больших чисел - это может привести к очень большим значениям в числителе и знаменателе за пределами диапазона float.\n",
    "\n",
    "К счастью, у этой проблемы есть простое решение -- перед вычислением softmax вычесть из всех оценок максимальное значение среди всех оценок:\n",
    "```\n",
    "predictions -= np.max(predictions)\n",
    "```\n",
    "(подробнее здесь - http://cs231n.github.io/linear-classify/#softmax, секция `Practical issues: Numeric stability`)"
   ]
  },
  {
   "cell_type": "code",
   "execution_count": 186,
   "metadata": {},
   "outputs": [],
   "source": [
    "# TODO Implement softmax and cross-entropy for single sample\n",
    "probs = linear_classifer.softmax(np.array([-10, 0, 10]))\n",
    "\n",
    "# Make sure it works for big numbers too!\n",
    "probs = linear_classifer.softmax(np.array([1000, 0, 0]))\n",
    "assert np.isclose(probs[0], 1.0)"
   ]
  },
  {
   "cell_type": "markdown",
   "metadata": {},
   "source": [
    "Кроме этого, мы реализуем cross-entropy loss, которую мы будем использовать как функцию ошибки (error function).\n",
    "В общем виде cross-entropy определена следующим образом:\n",
    "![image](https://wikimedia.org/api/rest_v1/media/math/render/svg/0cb6da032ab424eefdca0884cd4113fe578f4293)\n",
    "\n",
    "где x - все классы, p(x) - истинная вероятность принадлежности сэмпла классу x, а q(x) - вероятность принадлежности классу x, предсказанная моделью.  \n",
    "В нашем случае сэмпл принадлежит только одному классу, индекс которого передается функции. Для него p(x) равна 1, а для остальных классов - 0. \n",
    "\n",
    "Это позволяет реализовать функцию проще!"
   ]
  },
  {
   "cell_type": "code",
   "execution_count": 187,
   "metadata": {},
   "outputs": [
    {
     "output_type": "stream",
     "name": "stdout",
     "text": [
      "[4.50940412e-05 6.69254912e-03 9.93262357e-01]\n"
     ]
    },
    {
     "output_type": "execute_result",
     "data": {
      "text/plain": [
       "5.006760443547122"
      ]
     },
     "metadata": {},
     "execution_count": 187
    }
   ],
   "source": [
    "probs = linear_classifer.softmax(np.array([-5, 0, 5]))\n",
    "print(probs)\n",
    "linear_classifer.cross_entropy_loss(probs, 1)"
   ]
  },
  {
   "cell_type": "markdown",
   "metadata": {},
   "source": [
    "После того как мы реализовали сами функции, мы можем реализовать градиент.\n",
    "\n",
    "Оказывается, что вычисление градиента становится гораздо проще, если объединить эти функции в одну, которая сначала вычисляет вероятности через softmax, а потом использует их для вычисления функции ошибки через cross-entropy loss.\n",
    "\n",
    "Эта функция `softmax_with_cross_entropy` будет возвращает и значение ошибки, и градиент по входным параметрам. Мы проверим корректность реализации с помощью `check_gradient`."
   ]
  },
  {
   "cell_type": "code",
   "execution_count": 205,
   "metadata": {},
   "outputs": [
    {
     "output_type": "stream",
     "name": "stdout",
     "text": [
      "(3,)\n(3,)\nGradient check passed!\n"
     ]
    },
    {
     "output_type": "execute_result",
     "data": {
      "text/plain": [
       "True"
      ]
     },
     "metadata": {},
     "execution_count": 205
    }
   ],
   "source": [
    "# TODO Implement combined function or softmax and cross entropy and produces gradient\n",
    "loss, grad = linear_classifer.softmax_with_cross_entropy(np.array([1, 0, 0]), 1)\n",
    "check_gradient(lambda x: linear_classifer.softmax_with_cross_entropy(x, 1), np.array([1, 0, 0], np.float))"
   ]
  },
  {
   "cell_type": "markdown",
   "metadata": {},
   "source": [
    "В качестве метода тренировки мы будем использовать стохастический градиентный спуск (stochastic gradient descent или SGD), который работает с батчами сэмплов. \n",
    "\n",
    "Поэтому все наши фукнции будут получать не один пример, а батч, то есть входом будет не вектор из `num_classes` оценок, а матрица размерности `batch_size, num_classes`. Индекс примера в батче всегда будет первым измерением.\n",
    "\n",
    "Следующий шаг - переписать наши функции так, чтобы они поддерживали батчи.\n",
    "\n",
    "Финальное значение функции ошибки должно остаться числом, и оно равно среднему значению ошибки среди всех примеров в батче."
   ]
  },
  {
   "cell_type": "code",
   "execution_count": 279,
   "metadata": {
    "scrolled": false
   },
   "outputs": [
    {
     "output_type": "stream",
     "name": "stdout",
     "text": [
      "(1, 4)\n(1, 4)\nGradients are SAME at (0, 0). Analytic: 0.20603, Numeric: 0.20603\nGradients are SAME at (0, 1). Analytic: 0.56005, Numeric: 0.56005\nGradients are SAME at (0, 2). Analytic: -0.97212, Numeric: -0.97212\nGradients are SAME at (0, 3). Analytic: 0.20603, Numeric: 0.20603\nGradient check passed!\n(3, 4)\n(3, 4)\nGradients are SAME at (0, 0). Analytic: 0.22715, Numeric: 0.22715\nGradients are SAME at (0, 1). Analytic: 0.01131, Numeric: 0.01131\nGradients are SAME at (0, 2). Analytic: 0.01131, Numeric: 0.01131\nGradients are SAME at (0, 3). Analytic: -0.24977, Numeric: -0.24977\nGradients are SAME at (1, 0). Analytic: 0.03641, Numeric: 0.03641\nGradients are SAME at (1, 1). Analytic: 0.09897, Numeric: 0.09897\nGradients are SAME at (1, 2). Analytic: 0.09897, Numeric: 0.09897\nGradients are SAME at (1, 3). Analytic: -0.23436, Numeric: -0.23436\nGradients are SAME at (2, 0). Analytic: 0.05072, Numeric: 0.05072\nGradients are SAME at (2, 1). Analytic: 0.13787, Numeric: 0.13787\nGradients are SAME at (2, 2). Analytic: -0.32647, Numeric: -0.32647\nGradients are SAME at (2, 3). Analytic: 0.13787, Numeric: 0.13787\nGradient check passed!\n"
     ]
    }
   ],
   "source": [
    "# TODO Extend combined function so it can receive a 2d array with batch of samples\n",
    "np.random.seed(42)\n",
    "# Test batch_size = 1\n",
    "num_classes = 4\n",
    "batch_size = 1\n",
    "predictions = np.random.randint(-1, 3, size=(batch_size, num_classes)).astype(np.float)\n",
    "target_index = np.random.randint(0, num_classes, size=(batch_size, 1)).astype(np.int)\n",
    "check_gradient(lambda x: linear_classifer.softmax_with_cross_entropy(x, target_index), predictions)\n",
    "\n",
    "# Test batch_size = 3\n",
    "num_classes = 4\n",
    "batch_size = 3\n",
    "predictions = np.random.randint(-1, 3, size=(batch_size, num_classes)).astype(np.float)\n",
    "target_index = np.random.randint(0, num_classes, size=(batch_size, 1)).astype(np.int)\n",
    "check_gradient(lambda x: linear_classifer.softmax_with_cross_entropy(x, target_index), predictions)\n",
    "\n",
    "# Make sure maximum subtraction for numberic stability is done separately for every sample in the batch\n",
    "probs = linear_classifer.softmax(np.array([[20,0,0], [1000, 0, 0]]))\n",
    "assert np.all(np.isclose(probs[:, 0], 1.0))"
   ]
  },
  {
   "cell_type": "markdown",
   "metadata": {},
   "source": [
    "### Наконец, реализуем сам линейный классификатор!\n",
    "\n",
    "softmax и cross-entropy получают на вход оценки, которые выдает линейный классификатор.\n",
    "\n",
    "Он делает это очень просто: для каждого класса есть набор весов, на которые надо умножить пиксели картинки и сложить. Получившееся число и является оценкой класса, идущей на вход softmax.\n",
    "\n",
    "Таким образом, линейный классификатор можно представить как умножение вектора с пикселями на матрицу W размера `num_features, num_classes`. Такой подход легко расширяется на случай батча векторов с пикселями X размера `batch_size, num_features`:\n",
    "\n",
    "`predictions = X * W`, где `*` - матричное умножение.\n",
    "\n",
    "Реализуйте функцию подсчета линейного классификатора и градиентов по весам `linear_softmax` в файле `linear_classifer.py`"
   ]
  },
  {
   "cell_type": "code",
   "execution_count": 278,
   "metadata": {},
   "outputs": [
    {
     "output_type": "stream",
     "name": "stdout",
     "text": [
      "(3, 2)\n(3, 2)\nGradients are SAME at (0, 0). Analytic: -0.44040, Numeric: -0.44040\nGradients are SAME at (0, 1). Analytic: 0.44040, Numeric: 0.44040\nGradients are SAME at (1, 0). Analytic: -0.41669, Numeric: -0.41669\nGradients are SAME at (1, 1). Analytic: 0.41669, Numeric: 0.41669\nGradients are SAME at (2, 0). Analytic: 0.46411, Numeric: 0.46411\nGradients are SAME at (2, 1). Analytic: -0.46411, Numeric: -0.46411\nGradient check passed!\n"
     ]
    },
    {
     "output_type": "execute_result",
     "data": {
      "text/plain": [
       "True"
      ]
     },
     "metadata": {},
     "execution_count": 278
    }
   ],
   "source": [
    "# TODO Implement linear_softmax function that uses softmax with cross-entropy for linear classifier\n",
    "batch_size = 2\n",
    "num_classes = 2\n",
    "num_features = 3\n",
    "np.random.seed(42)\n",
    "W = np.random.randint(-1, 3, size=(num_features, num_classes)).astype(np.float)\n",
    "X = np.random.randint(-1, 3, size=(batch_size, num_features)).astype(np.float)\n",
    "target_index = np.ones(batch_size, dtype=np.int)\n",
    "\n",
    "loss, dW = linear_classifer.linear_softmax(X, W, target_index)\n",
    "check_gradient(lambda w: linear_classifer.linear_softmax(X, w, target_index), W)"
   ]
  },
  {
   "cell_type": "markdown",
   "metadata": {},
   "source": [
    "### И теперь регуляризация\n",
    "\n",
    "Мы будем использовать L2 regularization для весов как часть общей функции ошибки.\n",
    "\n",
    "Напомним, L2 regularization определяется как\n",
    "\n",
    "l2_reg_loss = regularization_strength * sum<sub>ij</sub> W[i, j]<sup>2</sup>\n",
    "\n",
    "Реализуйте функцию для его вычисления и вычисления соотвествующих градиентов."
   ]
  },
  {
   "cell_type": "code",
   "execution_count": 277,
   "metadata": {},
   "outputs": [
    {
     "output_type": "stream",
     "name": "stdout",
     "text": [
      "(3, 2)\n(3, 2)\nGradients are SAME at (0, 0). Analytic: 0.02000, Numeric: 0.02000\nGradients are SAME at (0, 1). Analytic: 0.04000, Numeric: 0.04000\nGradients are SAME at (1, 0). Analytic: -0.02000, Numeric: -0.02000\nGradients are SAME at (1, 1). Analytic: 0.02000, Numeric: 0.02000\nGradients are SAME at (2, 0). Analytic: 0.02000, Numeric: 0.02000\nGradients are SAME at (2, 1). Analytic: 0.04000, Numeric: 0.04000\nGradient check passed!\n"
     ]
    },
    {
     "output_type": "execute_result",
     "data": {
      "text/plain": [
       "True"
      ]
     },
     "metadata": {},
     "execution_count": 277
    }
   ],
   "source": [
    "# TODO Implement l2_regularization function that implements loss for L2 regularization\n",
    "linear_classifer.l2_regularization(W, 0.01)\n",
    "check_gradient(lambda w: linear_classifer.l2_regularization(w, 0.01), W)"
   ]
  },
  {
   "cell_type": "markdown",
   "metadata": {},
   "source": [
    "# Тренировка!"
   ]
  },
  {
   "cell_type": "markdown",
   "metadata": {},
   "source": [
    "Градиенты в порядке, реализуем процесс тренировки!"
   ]
  },
  {
   "cell_type": "code",
   "execution_count": 285,
   "metadata": {
    "scrolled": false
   },
   "outputs": [
    {
     "output_type": "stream",
     "name": "stdout",
     "text": [
      "Epoch 0, loss: 2.301406\n",
      "Epoch 1, loss: 2.300645\n",
      "Epoch 2, loss: 2.301930\n",
      "Epoch 3, loss: 2.300194\n",
      "Epoch 4, loss: 2.296883\n",
      "Epoch 5, loss: 2.297291\n",
      "Epoch 6, loss: 2.293188\n",
      "Epoch 7, loss: 2.297095\n",
      "Epoch 8, loss: 2.290985\n",
      "Epoch 9, loss: 2.289429\n"
     ]
    }
   ],
   "source": [
    "# TODO: Implement LinearSoftmaxClassifier.fit function\n",
    "classifier = linear_classifer.LinearSoftmaxClassifier()\n",
    "loss_history = classifier.fit(train_X, train_y, epochs=10, learning_rate=1e-3, batch_size=300, reg=1e-4)"
   ]
  },
  {
   "cell_type": "code",
   "execution_count": 297,
   "metadata": {},
   "outputs": [
    {
     "output_type": "execute_result",
     "data": {
      "text/plain": [
       "[<matplotlib.lines.Line2D at 0x7f0fa6cd15b0>]"
      ]
     },
     "metadata": {},
     "execution_count": 297
    },
    {
     "output_type": "display_data",
     "data": {
      "text/plain": "<Figure size 432x288 with 1 Axes>",
      "image/svg+xml": "<?xml version=\"1.0\" encoding=\"utf-8\" standalone=\"no\"?>\n<!DOCTYPE svg PUBLIC \"-//W3C//DTD SVG 1.1//EN\"\n  \"http://www.w3.org/Graphics/SVG/1.1/DTD/svg11.dtd\">\n<!-- Created with matplotlib (https://matplotlib.org/) -->\n<svg height=\"248.518125pt\" version=\"1.1\" viewBox=\"0 0 384.828125 248.518125\" width=\"384.828125pt\" xmlns=\"http://www.w3.org/2000/svg\" xmlns:xlink=\"http://www.w3.org/1999/xlink\">\n <metadata>\n  <rdf:RDF xmlns:cc=\"http://creativecommons.org/ns#\" xmlns:dc=\"http://purl.org/dc/elements/1.1/\" xmlns:rdf=\"http://www.w3.org/1999/02/22-rdf-syntax-ns#\">\n   <cc:Work>\n    <dc:type rdf:resource=\"http://purl.org/dc/dcmitype/StillImage\"/>\n    <dc:date>2020-12-15T10:05:04.369573</dc:date>\n    <dc:format>image/svg+xml</dc:format>\n    <dc:creator>\n     <cc:Agent>\n      <dc:title>Matplotlib v3.3.3, https://matplotlib.org/</dc:title>\n     </cc:Agent>\n    </dc:creator>\n   </cc:Work>\n  </rdf:RDF>\n </metadata>\n <defs>\n  <style type=\"text/css\">*{stroke-linecap:butt;stroke-linejoin:round;}</style>\n </defs>\n <g id=\"figure_1\">\n  <g id=\"patch_1\">\n   <path d=\"M 0 248.518125 \nL 384.828125 248.518125 \nL 384.828125 0 \nL 0 0 \nz\n\" style=\"fill:none;\"/>\n  </g>\n  <g id=\"axes_1\">\n   <g id=\"patch_2\">\n    <path d=\"M 42.828125 224.64 \nL 377.628125 224.64 \nL 377.628125 7.2 \nL 42.828125 7.2 \nz\n\" style=\"fill:#ffffff;\"/>\n   </g>\n   <g id=\"matplotlib.axis_1\">\n    <g id=\"xtick_1\">\n     <g id=\"line2d_1\">\n      <defs>\n       <path d=\"M 0 0 \nL 0 3.5 \n\" id=\"m08f41b74c0\" style=\"stroke:#000000;stroke-width:0.8;\"/>\n      </defs>\n      <g>\n       <use style=\"stroke:#000000;stroke-width:0.8;\" x=\"58.046307\" xlink:href=\"#m08f41b74c0\" y=\"224.64\"/>\n      </g>\n     </g>\n     <g id=\"text_1\">\n      <!-- 0 -->\n      <g transform=\"translate(54.865057 239.238438)scale(0.1 -0.1)\">\n       <defs>\n        <path d=\"M 31.78125 66.40625 \nQ 24.171875 66.40625 20.328125 58.90625 \nQ 16.5 51.421875 16.5 36.375 \nQ 16.5 21.390625 20.328125 13.890625 \nQ 24.171875 6.390625 31.78125 6.390625 \nQ 39.453125 6.390625 43.28125 13.890625 \nQ 47.125 21.390625 47.125 36.375 \nQ 47.125 51.421875 43.28125 58.90625 \nQ 39.453125 66.40625 31.78125 66.40625 \nz\nM 31.78125 74.21875 \nQ 44.046875 74.21875 50.515625 64.515625 \nQ 56.984375 54.828125 56.984375 36.375 \nQ 56.984375 17.96875 50.515625 8.265625 \nQ 44.046875 -1.421875 31.78125 -1.421875 \nQ 19.53125 -1.421875 13.0625 8.265625 \nQ 6.59375 17.96875 6.59375 36.375 \nQ 6.59375 54.828125 13.0625 64.515625 \nQ 19.53125 74.21875 31.78125 74.21875 \nz\n\" id=\"DejaVuSans-48\"/>\n       </defs>\n       <use xlink:href=\"#DejaVuSans-48\"/>\n      </g>\n     </g>\n    </g>\n    <g id=\"xtick_2\">\n     <g id=\"line2d_2\">\n      <g>\n       <use style=\"stroke:#000000;stroke-width:0.8;\" x=\"108.943236\" xlink:href=\"#m08f41b74c0\" y=\"224.64\"/>\n      </g>\n     </g>\n     <g id=\"text_2\">\n      <!-- 50 -->\n      <g transform=\"translate(102.580736 239.238438)scale(0.1 -0.1)\">\n       <defs>\n        <path d=\"M 10.796875 72.90625 \nL 49.515625 72.90625 \nL 49.515625 64.59375 \nL 19.828125 64.59375 \nL 19.828125 46.734375 \nQ 21.96875 47.46875 24.109375 47.828125 \nQ 26.265625 48.1875 28.421875 48.1875 \nQ 40.625 48.1875 47.75 41.5 \nQ 54.890625 34.8125 54.890625 23.390625 \nQ 54.890625 11.625 47.5625 5.09375 \nQ 40.234375 -1.421875 26.90625 -1.421875 \nQ 22.3125 -1.421875 17.546875 -0.640625 \nQ 12.796875 0.140625 7.71875 1.703125 \nL 7.71875 11.625 \nQ 12.109375 9.234375 16.796875 8.0625 \nQ 21.484375 6.890625 26.703125 6.890625 \nQ 35.15625 6.890625 40.078125 11.328125 \nQ 45.015625 15.765625 45.015625 23.390625 \nQ 45.015625 31 40.078125 35.4375 \nQ 35.15625 39.890625 26.703125 39.890625 \nQ 22.75 39.890625 18.8125 39.015625 \nQ 14.890625 38.140625 10.796875 36.28125 \nz\n\" id=\"DejaVuSans-53\"/>\n       </defs>\n       <use xlink:href=\"#DejaVuSans-53\"/>\n       <use x=\"63.623047\" xlink:href=\"#DejaVuSans-48\"/>\n      </g>\n     </g>\n    </g>\n    <g id=\"xtick_3\">\n     <g id=\"line2d_3\">\n      <g>\n       <use style=\"stroke:#000000;stroke-width:0.8;\" x=\"159.840165\" xlink:href=\"#m08f41b74c0\" y=\"224.64\"/>\n      </g>\n     </g>\n     <g id=\"text_3\">\n      <!-- 100 -->\n      <g transform=\"translate(150.296415 239.238438)scale(0.1 -0.1)\">\n       <defs>\n        <path d=\"M 12.40625 8.296875 \nL 28.515625 8.296875 \nL 28.515625 63.921875 \nL 10.984375 60.40625 \nL 10.984375 69.390625 \nL 28.421875 72.90625 \nL 38.28125 72.90625 \nL 38.28125 8.296875 \nL 54.390625 8.296875 \nL 54.390625 0 \nL 12.40625 0 \nz\n\" id=\"DejaVuSans-49\"/>\n       </defs>\n       <use xlink:href=\"#DejaVuSans-49\"/>\n       <use x=\"63.623047\" xlink:href=\"#DejaVuSans-48\"/>\n       <use x=\"127.246094\" xlink:href=\"#DejaVuSans-48\"/>\n      </g>\n     </g>\n    </g>\n    <g id=\"xtick_4\">\n     <g id=\"line2d_4\">\n      <g>\n       <use style=\"stroke:#000000;stroke-width:0.8;\" x=\"210.737094\" xlink:href=\"#m08f41b74c0\" y=\"224.64\"/>\n      </g>\n     </g>\n     <g id=\"text_4\">\n      <!-- 150 -->\n      <g transform=\"translate(201.193344 239.238438)scale(0.1 -0.1)\">\n       <use xlink:href=\"#DejaVuSans-49\"/>\n       <use x=\"63.623047\" xlink:href=\"#DejaVuSans-53\"/>\n       <use x=\"127.246094\" xlink:href=\"#DejaVuSans-48\"/>\n      </g>\n     </g>\n    </g>\n    <g id=\"xtick_5\">\n     <g id=\"line2d_5\">\n      <g>\n       <use style=\"stroke:#000000;stroke-width:0.8;\" x=\"261.634023\" xlink:href=\"#m08f41b74c0\" y=\"224.64\"/>\n      </g>\n     </g>\n     <g id=\"text_5\">\n      <!-- 200 -->\n      <g transform=\"translate(252.090273 239.238438)scale(0.1 -0.1)\">\n       <defs>\n        <path d=\"M 19.1875 8.296875 \nL 53.609375 8.296875 \nL 53.609375 0 \nL 7.328125 0 \nL 7.328125 8.296875 \nQ 12.9375 14.109375 22.625 23.890625 \nQ 32.328125 33.6875 34.8125 36.53125 \nQ 39.546875 41.84375 41.421875 45.53125 \nQ 43.3125 49.21875 43.3125 52.78125 \nQ 43.3125 58.59375 39.234375 62.25 \nQ 35.15625 65.921875 28.609375 65.921875 \nQ 23.96875 65.921875 18.8125 64.3125 \nQ 13.671875 62.703125 7.8125 59.421875 \nL 7.8125 69.390625 \nQ 13.765625 71.78125 18.9375 73 \nQ 24.125 74.21875 28.421875 74.21875 \nQ 39.75 74.21875 46.484375 68.546875 \nQ 53.21875 62.890625 53.21875 53.421875 \nQ 53.21875 48.921875 51.53125 44.890625 \nQ 49.859375 40.875 45.40625 35.40625 \nQ 44.1875 33.984375 37.640625 27.21875 \nQ 31.109375 20.453125 19.1875 8.296875 \nz\n\" id=\"DejaVuSans-50\"/>\n       </defs>\n       <use xlink:href=\"#DejaVuSans-50\"/>\n       <use x=\"63.623047\" xlink:href=\"#DejaVuSans-48\"/>\n       <use x=\"127.246094\" xlink:href=\"#DejaVuSans-48\"/>\n      </g>\n     </g>\n    </g>\n    <g id=\"xtick_6\">\n     <g id=\"line2d_6\">\n      <g>\n       <use style=\"stroke:#000000;stroke-width:0.8;\" x=\"312.530953\" xlink:href=\"#m08f41b74c0\" y=\"224.64\"/>\n      </g>\n     </g>\n     <g id=\"text_6\">\n      <!-- 250 -->\n      <g transform=\"translate(302.987203 239.238438)scale(0.1 -0.1)\">\n       <use xlink:href=\"#DejaVuSans-50\"/>\n       <use x=\"63.623047\" xlink:href=\"#DejaVuSans-53\"/>\n       <use x=\"127.246094\" xlink:href=\"#DejaVuSans-48\"/>\n      </g>\n     </g>\n    </g>\n    <g id=\"xtick_7\">\n     <g id=\"line2d_7\">\n      <g>\n       <use style=\"stroke:#000000;stroke-width:0.8;\" x=\"363.427882\" xlink:href=\"#m08f41b74c0\" y=\"224.64\"/>\n      </g>\n     </g>\n     <g id=\"text_7\">\n      <!-- 300 -->\n      <g transform=\"translate(353.884132 239.238438)scale(0.1 -0.1)\">\n       <defs>\n        <path d=\"M 40.578125 39.3125 \nQ 47.65625 37.796875 51.625 33 \nQ 55.609375 28.21875 55.609375 21.1875 \nQ 55.609375 10.40625 48.1875 4.484375 \nQ 40.765625 -1.421875 27.09375 -1.421875 \nQ 22.515625 -1.421875 17.65625 -0.515625 \nQ 12.796875 0.390625 7.625 2.203125 \nL 7.625 11.71875 \nQ 11.71875 9.328125 16.59375 8.109375 \nQ 21.484375 6.890625 26.8125 6.890625 \nQ 36.078125 6.890625 40.9375 10.546875 \nQ 45.796875 14.203125 45.796875 21.1875 \nQ 45.796875 27.640625 41.28125 31.265625 \nQ 36.765625 34.90625 28.71875 34.90625 \nL 20.21875 34.90625 \nL 20.21875 43.015625 \nL 29.109375 43.015625 \nQ 36.375 43.015625 40.234375 45.921875 \nQ 44.09375 48.828125 44.09375 54.296875 \nQ 44.09375 59.90625 40.109375 62.90625 \nQ 36.140625 65.921875 28.71875 65.921875 \nQ 24.65625 65.921875 20.015625 65.03125 \nQ 15.375 64.15625 9.8125 62.3125 \nL 9.8125 71.09375 \nQ 15.4375 72.65625 20.34375 73.4375 \nQ 25.25 74.21875 29.59375 74.21875 \nQ 40.828125 74.21875 47.359375 69.109375 \nQ 53.90625 64.015625 53.90625 55.328125 \nQ 53.90625 49.265625 50.4375 45.09375 \nQ 46.96875 40.921875 40.578125 39.3125 \nz\n\" id=\"DejaVuSans-51\"/>\n       </defs>\n       <use xlink:href=\"#DejaVuSans-51\"/>\n       <use x=\"63.623047\" xlink:href=\"#DejaVuSans-48\"/>\n       <use x=\"127.246094\" xlink:href=\"#DejaVuSans-48\"/>\n      </g>\n     </g>\n    </g>\n   </g>\n   <g id=\"matplotlib.axis_2\">\n    <g id=\"ytick_1\">\n     <g id=\"line2d_8\">\n      <defs>\n       <path d=\"M 0 0 \nL -3.5 0 \n\" id=\"mf3a8db9567\" style=\"stroke:#000000;stroke-width:0.8;\"/>\n      </defs>\n      <g>\n       <use style=\"stroke:#000000;stroke-width:0.8;\" x=\"42.828125\" xlink:href=\"#mf3a8db9567\" y=\"205.19672\"/>\n      </g>\n     </g>\n     <g id=\"text_8\">\n      <!-- 2.290 -->\n      <g transform=\"translate(7.2 208.995939)scale(0.1 -0.1)\">\n       <defs>\n        <path d=\"M 10.6875 12.40625 \nL 21 12.40625 \nL 21 0 \nL 10.6875 0 \nz\n\" id=\"DejaVuSans-46\"/>\n        <path d=\"M 10.984375 1.515625 \nL 10.984375 10.5 \nQ 14.703125 8.734375 18.5 7.8125 \nQ 22.3125 6.890625 25.984375 6.890625 \nQ 35.75 6.890625 40.890625 13.453125 \nQ 46.046875 20.015625 46.78125 33.40625 \nQ 43.953125 29.203125 39.59375 26.953125 \nQ 35.25 24.703125 29.984375 24.703125 \nQ 19.046875 24.703125 12.671875 31.3125 \nQ 6.296875 37.9375 6.296875 49.421875 \nQ 6.296875 60.640625 12.9375 67.421875 \nQ 19.578125 74.21875 30.609375 74.21875 \nQ 43.265625 74.21875 49.921875 64.515625 \nQ 56.59375 54.828125 56.59375 36.375 \nQ 56.59375 19.140625 48.40625 8.859375 \nQ 40.234375 -1.421875 26.421875 -1.421875 \nQ 22.703125 -1.421875 18.890625 -0.6875 \nQ 15.09375 0.046875 10.984375 1.515625 \nz\nM 30.609375 32.421875 \nQ 37.25 32.421875 41.125 36.953125 \nQ 45.015625 41.5 45.015625 49.421875 \nQ 45.015625 57.28125 41.125 61.84375 \nQ 37.25 66.40625 30.609375 66.40625 \nQ 23.96875 66.40625 20.09375 61.84375 \nQ 16.21875 57.28125 16.21875 49.421875 \nQ 16.21875 41.5 20.09375 36.953125 \nQ 23.96875 32.421875 30.609375 32.421875 \nz\n\" id=\"DejaVuSans-57\"/>\n       </defs>\n       <use xlink:href=\"#DejaVuSans-50\"/>\n       <use x=\"63.623047\" xlink:href=\"#DejaVuSans-46\"/>\n       <use x=\"95.410156\" xlink:href=\"#DejaVuSans-50\"/>\n       <use x=\"159.033203\" xlink:href=\"#DejaVuSans-57\"/>\n       <use x=\"222.65625\" xlink:href=\"#DejaVuSans-48\"/>\n      </g>\n     </g>\n    </g>\n    <g id=\"ytick_2\">\n     <g id=\"line2d_9\">\n      <g>\n       <use style=\"stroke:#000000;stroke-width:0.8;\" x=\"42.828125\" xlink:href=\"#mf3a8db9567\" y=\"176.546344\"/>\n      </g>\n     </g>\n     <g id=\"text_9\">\n      <!-- 2.292 -->\n      <g transform=\"translate(7.2 180.345563)scale(0.1 -0.1)\">\n       <use xlink:href=\"#DejaVuSans-50\"/>\n       <use x=\"63.623047\" xlink:href=\"#DejaVuSans-46\"/>\n       <use x=\"95.410156\" xlink:href=\"#DejaVuSans-50\"/>\n       <use x=\"159.033203\" xlink:href=\"#DejaVuSans-57\"/>\n       <use x=\"222.65625\" xlink:href=\"#DejaVuSans-50\"/>\n      </g>\n     </g>\n    </g>\n    <g id=\"ytick_3\">\n     <g id=\"line2d_10\">\n      <g>\n       <use style=\"stroke:#000000;stroke-width:0.8;\" x=\"42.828125\" xlink:href=\"#mf3a8db9567\" y=\"147.895968\"/>\n      </g>\n     </g>\n     <g id=\"text_10\">\n      <!-- 2.294 -->\n      <g transform=\"translate(7.2 151.695186)scale(0.1 -0.1)\">\n       <defs>\n        <path d=\"M 37.796875 64.3125 \nL 12.890625 25.390625 \nL 37.796875 25.390625 \nz\nM 35.203125 72.90625 \nL 47.609375 72.90625 \nL 47.609375 25.390625 \nL 58.015625 25.390625 \nL 58.015625 17.1875 \nL 47.609375 17.1875 \nL 47.609375 0 \nL 37.796875 0 \nL 37.796875 17.1875 \nL 4.890625 17.1875 \nL 4.890625 26.703125 \nz\n\" id=\"DejaVuSans-52\"/>\n       </defs>\n       <use xlink:href=\"#DejaVuSans-50\"/>\n       <use x=\"63.623047\" xlink:href=\"#DejaVuSans-46\"/>\n       <use x=\"95.410156\" xlink:href=\"#DejaVuSans-50\"/>\n       <use x=\"159.033203\" xlink:href=\"#DejaVuSans-57\"/>\n       <use x=\"222.65625\" xlink:href=\"#DejaVuSans-52\"/>\n      </g>\n     </g>\n    </g>\n    <g id=\"ytick_4\">\n     <g id=\"line2d_11\">\n      <g>\n       <use style=\"stroke:#000000;stroke-width:0.8;\" x=\"42.828125\" xlink:href=\"#mf3a8db9567\" y=\"119.245591\"/>\n      </g>\n     </g>\n     <g id=\"text_11\">\n      <!-- 2.296 -->\n      <g transform=\"translate(7.2 123.04481)scale(0.1 -0.1)\">\n       <defs>\n        <path d=\"M 33.015625 40.375 \nQ 26.375 40.375 22.484375 35.828125 \nQ 18.609375 31.296875 18.609375 23.390625 \nQ 18.609375 15.53125 22.484375 10.953125 \nQ 26.375 6.390625 33.015625 6.390625 \nQ 39.65625 6.390625 43.53125 10.953125 \nQ 47.40625 15.53125 47.40625 23.390625 \nQ 47.40625 31.296875 43.53125 35.828125 \nQ 39.65625 40.375 33.015625 40.375 \nz\nM 52.59375 71.296875 \nL 52.59375 62.3125 \nQ 48.875 64.0625 45.09375 64.984375 \nQ 41.3125 65.921875 37.59375 65.921875 \nQ 27.828125 65.921875 22.671875 59.328125 \nQ 17.53125 52.734375 16.796875 39.40625 \nQ 19.671875 43.65625 24.015625 45.921875 \nQ 28.375 48.1875 33.59375 48.1875 \nQ 44.578125 48.1875 50.953125 41.515625 \nQ 57.328125 34.859375 57.328125 23.390625 \nQ 57.328125 12.15625 50.6875 5.359375 \nQ 44.046875 -1.421875 33.015625 -1.421875 \nQ 20.359375 -1.421875 13.671875 8.265625 \nQ 6.984375 17.96875 6.984375 36.375 \nQ 6.984375 53.65625 15.1875 63.9375 \nQ 23.390625 74.21875 37.203125 74.21875 \nQ 40.921875 74.21875 44.703125 73.484375 \nQ 48.484375 72.75 52.59375 71.296875 \nz\n\" id=\"DejaVuSans-54\"/>\n       </defs>\n       <use xlink:href=\"#DejaVuSans-50\"/>\n       <use x=\"63.623047\" xlink:href=\"#DejaVuSans-46\"/>\n       <use x=\"95.410156\" xlink:href=\"#DejaVuSans-50\"/>\n       <use x=\"159.033203\" xlink:href=\"#DejaVuSans-57\"/>\n       <use x=\"222.65625\" xlink:href=\"#DejaVuSans-54\"/>\n      </g>\n     </g>\n    </g>\n    <g id=\"ytick_5\">\n     <g id=\"line2d_12\">\n      <g>\n       <use style=\"stroke:#000000;stroke-width:0.8;\" x=\"42.828125\" xlink:href=\"#mf3a8db9567\" y=\"90.595215\"/>\n      </g>\n     </g>\n     <g id=\"text_12\">\n      <!-- 2.298 -->\n      <g transform=\"translate(7.2 94.394434)scale(0.1 -0.1)\">\n       <defs>\n        <path d=\"M 31.78125 34.625 \nQ 24.75 34.625 20.71875 30.859375 \nQ 16.703125 27.09375 16.703125 20.515625 \nQ 16.703125 13.921875 20.71875 10.15625 \nQ 24.75 6.390625 31.78125 6.390625 \nQ 38.8125 6.390625 42.859375 10.171875 \nQ 46.921875 13.96875 46.921875 20.515625 \nQ 46.921875 27.09375 42.890625 30.859375 \nQ 38.875 34.625 31.78125 34.625 \nz\nM 21.921875 38.8125 \nQ 15.578125 40.375 12.03125 44.71875 \nQ 8.5 49.078125 8.5 55.328125 \nQ 8.5 64.0625 14.71875 69.140625 \nQ 20.953125 74.21875 31.78125 74.21875 \nQ 42.671875 74.21875 48.875 69.140625 \nQ 55.078125 64.0625 55.078125 55.328125 \nQ 55.078125 49.078125 51.53125 44.71875 \nQ 48 40.375 41.703125 38.8125 \nQ 48.828125 37.15625 52.796875 32.3125 \nQ 56.78125 27.484375 56.78125 20.515625 \nQ 56.78125 9.90625 50.3125 4.234375 \nQ 43.84375 -1.421875 31.78125 -1.421875 \nQ 19.734375 -1.421875 13.25 4.234375 \nQ 6.78125 9.90625 6.78125 20.515625 \nQ 6.78125 27.484375 10.78125 32.3125 \nQ 14.796875 37.15625 21.921875 38.8125 \nz\nM 18.3125 54.390625 \nQ 18.3125 48.734375 21.84375 45.5625 \nQ 25.390625 42.390625 31.78125 42.390625 \nQ 38.140625 42.390625 41.71875 45.5625 \nQ 45.3125 48.734375 45.3125 54.390625 \nQ 45.3125 60.0625 41.71875 63.234375 \nQ 38.140625 66.40625 31.78125 66.40625 \nQ 25.390625 66.40625 21.84375 63.234375 \nQ 18.3125 60.0625 18.3125 54.390625 \nz\n\" id=\"DejaVuSans-56\"/>\n       </defs>\n       <use xlink:href=\"#DejaVuSans-50\"/>\n       <use x=\"63.623047\" xlink:href=\"#DejaVuSans-46\"/>\n       <use x=\"95.410156\" xlink:href=\"#DejaVuSans-50\"/>\n       <use x=\"159.033203\" xlink:href=\"#DejaVuSans-57\"/>\n       <use x=\"222.65625\" xlink:href=\"#DejaVuSans-56\"/>\n      </g>\n     </g>\n    </g>\n    <g id=\"ytick_6\">\n     <g id=\"line2d_13\">\n      <g>\n       <use style=\"stroke:#000000;stroke-width:0.8;\" x=\"42.828125\" xlink:href=\"#mf3a8db9567\" y=\"61.944839\"/>\n      </g>\n     </g>\n     <g id=\"text_13\">\n      <!-- 2.300 -->\n      <g transform=\"translate(7.2 65.744058)scale(0.1 -0.1)\">\n       <use xlink:href=\"#DejaVuSans-50\"/>\n       <use x=\"63.623047\" xlink:href=\"#DejaVuSans-46\"/>\n       <use x=\"95.410156\" xlink:href=\"#DejaVuSans-51\"/>\n       <use x=\"159.033203\" xlink:href=\"#DejaVuSans-48\"/>\n       <use x=\"222.65625\" xlink:href=\"#DejaVuSans-48\"/>\n      </g>\n     </g>\n    </g>\n    <g id=\"ytick_7\">\n     <g id=\"line2d_14\">\n      <g>\n       <use style=\"stroke:#000000;stroke-width:0.8;\" x=\"42.828125\" xlink:href=\"#mf3a8db9567\" y=\"33.294462\"/>\n      </g>\n     </g>\n     <g id=\"text_14\">\n      <!-- 2.302 -->\n      <g transform=\"translate(7.2 37.093681)scale(0.1 -0.1)\">\n       <use xlink:href=\"#DejaVuSans-50\"/>\n       <use x=\"63.623047\" xlink:href=\"#DejaVuSans-46\"/>\n       <use x=\"95.410156\" xlink:href=\"#DejaVuSans-51\"/>\n       <use x=\"159.033203\" xlink:href=\"#DejaVuSans-48\"/>\n       <use x=\"222.65625\" xlink:href=\"#DejaVuSans-50\"/>\n      </g>\n     </g>\n    </g>\n   </g>\n   <g id=\"line2d_15\">\n    <path clip-path=\"url(#p4412e993d9)\" d=\"M 58.046307 37.965345 \nL 59.064245 17.083636 \nL 60.082184 29.275656 \nL 61.100123 26.22699 \nL 62.118061 25.866021 \nL 63.136 36.878579 \nL 64.153938 35.792046 \nL 65.171877 20.381705 \nL 66.189815 29.428319 \nL 67.207754 34.773874 \nL 68.225693 28.404898 \nL 69.243631 31.934837 \nL 70.26157 36.87907 \nL 71.279508 41.195242 \nL 72.297447 35.981242 \nL 73.315386 41.337523 \nL 74.333324 43.155242 \nL 75.351263 44.147764 \nL 76.369201 34.441027 \nL 77.38714 33.900041 \nL 78.405078 39.145075 \nL 79.423017 26.204442 \nL 80.440956 41.974884 \nL 81.458894 37.919138 \nL 82.476833 45.480373 \nL 83.494771 32.533991 \nL 84.51271 30.759601 \nL 85.530649 63.138422 \nL 86.548587 33.880777 \nL 87.566526 41.80883 \nL 88.584464 47.851283 \nL 89.602403 41.29518 \nL 90.620341 41.714999 \nL 91.63828 38.487114 \nL 92.656219 26.633752 \nL 93.674157 45.649459 \nL 94.692096 57.613177 \nL 95.710034 40.417091 \nL 96.727973 30.545568 \nL 97.745912 41.028748 \nL 98.76385 32.067196 \nL 99.781789 56.610682 \nL 100.799727 51.451297 \nL 101.817666 62.991452 \nL 102.835604 50.40904 \nL 103.853543 41.148376 \nL 104.871482 54.373396 \nL 105.88942 51.337435 \nL 106.907359 53.715246 \nL 107.925297 69.084447 \nL 108.943236 48.252295 \nL 110.979113 71.856238 \nL 111.997052 72.499206 \nL 113.01499 55.854322 \nL 114.032929 67.80446 \nL 115.050867 48.637915 \nL 116.068806 50.109287 \nL 117.086745 48.494955 \nL 119.122622 56.951506 \nL 120.14056 74.304435 \nL 121.158499 53.362214 \nL 122.176438 59.020487 \nL 123.194376 56.172958 \nL 124.212315 58.223325 \nL 125.230253 69.856093 \nL 126.248192 64.61487 \nL 127.26613 56.897524 \nL 128.284069 52.680122 \nL 129.302008 49.618696 \nL 130.319946 71.832947 \nL 131.337885 44.896732 \nL 132.355823 67.329014 \nL 133.373762 60.243684 \nL 134.391701 38.326944 \nL 135.409639 63.939906 \nL 136.427578 70.945922 \nL 137.445516 83.060251 \nL 138.463455 87.519968 \nL 139.481393 93.327107 \nL 140.499332 81.333391 \nL 141.517271 77.386382 \nL 142.535209 47.204046 \nL 143.553148 64.547167 \nL 144.571086 68.542946 \nL 145.589025 91.978922 \nL 146.606964 56.770237 \nL 147.624902 80.57199 \nL 148.642841 34.291766 \nL 149.660779 75.828568 \nL 150.678718 68.232857 \nL 151.696656 103.385554 \nL 152.714595 75.062833 \nL 153.732534 80.082344 \nL 154.750472 96.292866 \nL 155.768411 76.831121 \nL 156.786349 78.861329 \nL 157.804288 66.301962 \nL 158.822227 81.468942 \nL 159.840165 65.976474 \nL 160.858104 102.41876 \nL 161.876042 70.972897 \nL 162.893981 103.377499 \nL 163.911919 76.321642 \nL 164.929858 60.60824 \nL 165.947797 48.631355 \nL 166.965735 83.688941 \nL 167.983674 81.465499 \nL 169.001612 44.981134 \nL 170.019551 69.259623 \nL 171.03749 107.451202 \nL 172.055428 63.922694 \nL 173.073367 95.253677 \nL 174.091305 88.032118 \nL 175.109244 64.352539 \nL 176.127182 78.406922 \nL 177.145121 75.105923 \nL 178.16306 105.87273 \nL 179.180998 59.163531 \nL 180.198937 132.061937 \nL 181.216875 88.226891 \nL 182.234814 35.344464 \nL 183.252753 64.026968 \nL 184.270691 113.544463 \nL 185.28863 116.303441 \nL 186.306568 105.814523 \nL 187.324507 77.641012 \nL 188.342445 115.425684 \nL 189.360384 89.800393 \nL 190.378323 74.814087 \nL 191.396261 86.820957 \nL 192.4142 88.965721 \nL 193.432138 93.315569 \nL 194.450077 120.420293 \nL 195.468016 70.815103 \nL 196.485954 115.235958 \nL 197.503893 90.396416 \nL 198.521831 114.095271 \nL 199.53977 77.122825 \nL 200.557708 74.1834 \nL 201.575647 78.806266 \nL 202.593586 116.475376 \nL 203.611524 81.177387 \nL 204.629463 51.551785 \nL 205.647401 91.953727 \nL 206.66534 90.656493 \nL 207.683279 88.051348 \nL 208.701217 95.810382 \nL 209.719156 106.597012 \nL 210.737094 115.26348 \nL 211.755033 116.387252 \nL 212.772971 94.976081 \nL 213.79091 103.987443 \nL 214.808849 105.572125 \nL 215.826787 112.523568 \nL 216.844726 77.934861 \nL 217.862664 74.146662 \nL 218.880603 113.288143 \nL 219.898542 124.842081 \nL 220.91648 92.274058 \nL 221.934419 122.678326 \nL 222.952357 138.679238 \nL 223.970296 127.152032 \nL 224.988234 90.581628 \nL 226.006173 113.284969 \nL 227.024112 92.529195 \nL 228.04205 89.678909 \nL 229.059989 61.662971 \nL 230.077927 129.318677 \nL 231.095866 108.137329 \nL 232.113805 143.016062 \nL 233.131743 104.881162 \nL 234.149682 97.574534 \nL 235.16762 85.861626 \nL 236.185559 77.905819 \nL 237.203497 88.987827 \nL 238.221436 127.900673 \nL 239.239375 104.43223 \nL 240.257313 100.745149 \nL 241.275252 108.909093 \nL 242.29319 101.369096 \nL 244.329068 131.054085 \nL 245.347006 89.127011 \nL 246.364945 146.520047 \nL 247.382883 80.881114 \nL 248.400822 73.184153 \nL 249.41876 92.076527 \nL 250.436699 65.524963 \nL 251.454638 135.469149 \nL 252.472576 123.555832 \nL 253.490515 149.126586 \nL 255.526392 103.874286 \nL 256.544331 109.765709 \nL 257.562269 121.844946 \nL 258.580208 89.325655 \nL 259.598146 149.712541 \nL 260.616085 105.601548 \nL 261.634023 121.319787 \nL 262.651962 106.730628 \nL 263.669901 94.005667 \nL 264.687839 131.453966 \nL 265.705778 100.579064 \nL 266.723716 169.245722 \nL 267.741655 154.132976 \nL 268.759594 125.329245 \nL 269.777532 125.565588 \nL 270.795471 159.524263 \nL 271.813409 96.58801 \nL 272.831348 95.157571 \nL 273.849286 151.130911 \nL 274.867225 129.601603 \nL 275.885164 117.998024 \nL 276.903102 163.003252 \nL 277.921041 116.489952 \nL 278.938979 149.898671 \nL 279.956918 119.64357 \nL 280.974857 117.753062 \nL 281.992795 121.546291 \nL 283.010734 136.798996 \nL 284.028672 139.002189 \nL 285.046611 137.471572 \nL 286.064549 154.155428 \nL 287.082488 69.181918 \nL 289.118365 126.430198 \nL 290.136304 148.002852 \nL 291.154242 144.500974 \nL 292.172181 136.646931 \nL 293.19012 111.227247 \nL 294.208058 149.552861 \nL 295.225997 151.994752 \nL 296.243935 134.707307 \nL 297.261874 151.301659 \nL 299.297751 132.252543 \nL 300.31569 137.728521 \nL 301.333628 103.552675 \nL 302.351567 113.223909 \nL 303.369505 149.336268 \nL 304.387444 154.437457 \nL 305.405383 94.651004 \nL 306.423321 109.669886 \nL 307.44126 193.95366 \nL 308.459198 129.353349 \nL 309.477137 147.508935 \nL 310.495075 124.190862 \nL 311.513014 153.094885 \nL 312.530953 147.133816 \nL 313.548891 132.093336 \nL 314.56683 191.475858 \nL 315.584768 100.250652 \nL 316.602707 195.83393 \nL 317.620646 99.949803 \nL 318.638584 178.000338 \nL 319.656523 130.144436 \nL 320.674461 139.298669 \nL 321.6924 156.746662 \nL 322.710338 146.046666 \nL 323.728277 100.933843 \nL 324.746216 114.821318 \nL 325.764154 155.320087 \nL 326.782093 137.825839 \nL 327.800031 124.028871 \nL 328.81797 128.555863 \nL 329.835909 153.318016 \nL 330.853847 162.376872 \nL 331.871786 191.084463 \nL 332.889724 167.518071 \nL 333.907663 137.079005 \nL 334.925601 142.2366 \nL 335.94354 96.408867 \nL 336.961479 150.932768 \nL 337.979417 140.210263 \nL 338.997356 203.997149 \nL 340.015294 157.37889 \nL 342.051172 116.743573 \nL 343.06911 174.786175 \nL 344.087049 199.357943 \nL 345.104987 150.973187 \nL 346.122926 142.418216 \nL 347.140864 175.76846 \nL 348.158803 156.124923 \nL 349.176742 107.541509 \nL 351.212619 214.756364 \nL 352.230557 170.147205 \nL 353.248496 111.128144 \nL 354.266435 166.255242 \nL 355.284373 75.897899 \nL 357.32025 190.323546 \nL 358.338189 181.907892 \nL 359.356127 85.248283 \nL 360.374066 189.331572 \nL 361.392005 172.602544 \nL 362.409943 213.378171 \nL 362.409943 213.378171 \n\" style=\"fill:none;stroke:#1f77b4;stroke-linecap:square;stroke-width:1.5;\"/>\n   </g>\n   <g id=\"patch_3\">\n    <path d=\"M 42.828125 224.64 \nL 42.828125 7.2 \n\" style=\"fill:none;stroke:#000000;stroke-linecap:square;stroke-linejoin:miter;stroke-width:0.8;\"/>\n   </g>\n   <g id=\"patch_4\">\n    <path d=\"M 377.628125 224.64 \nL 377.628125 7.2 \n\" style=\"fill:none;stroke:#000000;stroke-linecap:square;stroke-linejoin:miter;stroke-width:0.8;\"/>\n   </g>\n   <g id=\"patch_5\">\n    <path d=\"M 42.828125 224.64 \nL 377.628125 224.64 \n\" style=\"fill:none;stroke:#000000;stroke-linecap:square;stroke-linejoin:miter;stroke-width:0.8;\"/>\n   </g>\n   <g id=\"patch_6\">\n    <path d=\"M 42.828125 7.2 \nL 377.628125 7.2 \n\" style=\"fill:none;stroke:#000000;stroke-linecap:square;stroke-linejoin:miter;stroke-width:0.8;\"/>\n   </g>\n  </g>\n </g>\n <defs>\n  <clipPath id=\"p4412e993d9\">\n   <rect height=\"217.44\" width=\"334.8\" x=\"42.828125\" y=\"7.2\"/>\n  </clipPath>\n </defs>\n</svg>\n",
      "image/png": "[encoded data removed]"
     },
     "metadata": {
      "needs_background": "light"
     }
    }
   ],
   "source": [
    "# let's look at the loss history!\n",
    "plt.plot(loss_history)"
   ]
  },
  {
   "cell_type": "code",
   "execution_count": 295,
   "metadata": {},
   "outputs": [
    {
     "output_type": "stream",
     "name": "stdout",
     "text": [
      "Accuracy:  0.243\n",
      "Epoch 0, loss: 2.103679\n",
      "Epoch 1, loss: 2.153904\n",
      "Epoch 2, loss: 2.125957\n",
      "Epoch 3, loss: 2.120457\n",
      "Epoch 4, loss: 2.120261\n",
      "Epoch 5, loss: 2.113407\n",
      "Epoch 6, loss: 2.233294\n",
      "Epoch 7, loss: 2.106072\n",
      "Epoch 8, loss: 2.141549\n",
      "Epoch 9, loss: 2.148624\n",
      "Epoch 10, loss: 2.116341\n",
      "Epoch 11, loss: 2.127162\n",
      "Epoch 12, loss: 2.055827\n",
      "Epoch 13, loss: 2.119430\n",
      "Epoch 14, loss: 2.108251\n",
      "Epoch 15, loss: 2.060418\n",
      "Epoch 16, loss: 2.118616\n",
      "Epoch 17, loss: 2.143637\n",
      "Epoch 18, loss: 2.061261\n",
      "Epoch 19, loss: 2.120952\n",
      "Epoch 20, loss: 2.096754\n",
      "Epoch 21, loss: 2.102424\n",
      "Epoch 22, loss: 2.185585\n",
      "Epoch 23, loss: 2.059532\n",
      "Epoch 24, loss: 2.095658\n",
      "Epoch 25, loss: 2.062088\n",
      "Epoch 26, loss: 2.103681\n",
      "Epoch 27, loss: 2.056228\n",
      "Epoch 28, loss: 2.085164\n",
      "Epoch 29, loss: 2.113842\n",
      "Epoch 30, loss: 2.078201\n",
      "Epoch 31, loss: 2.086406\n",
      "Epoch 32, loss: 2.086290\n",
      "Epoch 33, loss: 2.075500\n",
      "Epoch 34, loss: 2.092268\n",
      "Epoch 35, loss: 2.041916\n",
      "Epoch 36, loss: 2.143959\n",
      "Epoch 37, loss: 2.037993\n",
      "Epoch 38, loss: 2.130806\n",
      "Epoch 39, loss: 1.990536\n",
      "Epoch 40, loss: 2.100370\n",
      "Epoch 41, loss: 2.034606\n",
      "Epoch 42, loss: 2.044361\n",
      "Epoch 43, loss: 2.152340\n",
      "Epoch 44, loss: 2.052836\n",
      "Epoch 45, loss: 2.134954\n",
      "Epoch 46, loss: 2.119374\n",
      "Epoch 47, loss: 2.080390\n",
      "Epoch 48, loss: 2.026872\n",
      "Epoch 49, loss: 1.995436\n",
      "Epoch 50, loss: 2.050248\n",
      "Epoch 51, loss: 2.051376\n",
      "Epoch 52, loss: 2.029185\n",
      "Epoch 53, loss: 2.098815\n",
      "Epoch 54, loss: 2.073728\n",
      "Epoch 55, loss: 2.077507\n",
      "Epoch 56, loss: 2.033474\n",
      "Epoch 57, loss: 2.096996\n",
      "Epoch 58, loss: 1.992844\n",
      "Epoch 59, loss: 2.104521\n",
      "Epoch 60, loss: 2.077205\n",
      "Epoch 61, loss: 2.032892\n",
      "Epoch 62, loss: 2.086006\n",
      "Epoch 63, loss: 2.129680\n",
      "Epoch 64, loss: 2.122790\n",
      "Epoch 65, loss: 2.054342\n",
      "Epoch 66, loss: 2.070633\n",
      "Epoch 67, loss: 2.058475\n",
      "Epoch 68, loss: 2.076685\n",
      "Epoch 69, loss: 2.063682\n",
      "Epoch 70, loss: 1.993593\n",
      "Epoch 71, loss: 2.044346\n",
      "Epoch 72, loss: 2.028753\n",
      "Epoch 73, loss: 2.020222\n",
      "Epoch 74, loss: 2.086747\n",
      "Epoch 75, loss: 2.070114\n",
      "Epoch 76, loss: 2.036714\n",
      "Epoch 77, loss: 2.058386\n",
      "Epoch 78, loss: 2.070085\n",
      "Epoch 79, loss: 2.071858\n",
      "Epoch 80, loss: 2.017351\n",
      "Epoch 81, loss: 2.097591\n",
      "Epoch 82, loss: 2.075951\n",
      "Epoch 83, loss: 2.108015\n",
      "Epoch 84, loss: 2.032645\n",
      "Epoch 85, loss: 2.101519\n",
      "Epoch 86, loss: 2.014264\n",
      "Epoch 87, loss: 2.099920\n",
      "Epoch 88, loss: 2.066235\n",
      "Epoch 89, loss: 2.031244\n",
      "Epoch 90, loss: 2.121204\n",
      "Epoch 91, loss: 2.024787\n",
      "Epoch 92, loss: 2.033785\n",
      "Epoch 93, loss: 2.128311\n",
      "Epoch 94, loss: 2.103305\n",
      "Epoch 95, loss: 2.033898\n",
      "Epoch 96, loss: 2.105278\n",
      "Epoch 97, loss: 2.010956\n",
      "Epoch 98, loss: 2.088014\n",
      "Epoch 99, loss: 2.039836\n",
      "Accuracy after training for 100 epochs:  0.244\n"
     ]
    }
   ],
   "source": [
    "# Let's check how it performs on validation set\n",
    "pred = classifier.predict(val_X)\n",
    "accuracy = multiclass_accuracy(pred, val_y)\n",
    "print(\"Accuracy: \", accuracy)\n",
    "\n",
    "# Now, let's train more and see if it performs better\n",
    "classifier.fit(train_X, train_y, epochs=100, learning_rate=1e-1, batch_size=300, reg=1e-4)\n",
    "pred = classifier.predict(val_X)\n",
    "accuracy = multiclass_accuracy(pred, val_y)\n",
    "print(\"Accuracy after training for 100 epochs: \", accuracy)"
   ]
  },
  {
   "cell_type": "markdown",
   "metadata": {},
   "source": [
    "### Как и раньше, используем кросс-валидацию для подбора гиперпараметтов.\n",
    "\n",
    "В этот раз, чтобы тренировка занимала разумное время, мы будем использовать только одно разделение на тренировочные (training) и проверочные (validation) данные.\n",
    "\n",
    "Теперь нам нужно подобрать не один, а два гиперпараметра! Не ограничивайте себя изначальными значениями в коде.  \n",
    "Добейтесь точности более чем **20%** на проверочных данных (validation data)."
   ]
  },
  {
   "cell_type": "code",
   "execution_count": null,
   "metadata": {},
   "outputs": [],
   "source": [
    "num_epochs = 200\n",
    "batch_size = 300\n",
    "\n",
    "learning_rates = [1e-3, 1e-4, 1e-5]\n",
    "reg_strengths = [1e-4, 1e-5, 1e-6]\n",
    "\n",
    "best_classifier = None\n",
    "best_val_accuracy = None\n",
    "\n",
    "# TODO use validation set to find the best hyperparameters\n",
    "# hint: for best results, you might need to try more values for learning rate and regularization strength \n",
    "# than provided initially\n",
    "\n",
    "\n",
    "print('best validation accuracy achieved: %f' % best_val_accuracy)"
   ]
  },
  {
   "cell_type": "markdown",
   "metadata": {},
   "source": [
    "# Какой же точности мы добились на тестовых данных?"
   ]
  },
  {
   "cell_type": "code",
   "execution_count": 296,
   "metadata": {},
   "outputs": [
    {
     "output_type": "stream",
     "name": "stdout",
     "text": [
      "Linear softmax classifier test set accuracy: 0.215000\n"
     ]
    }
   ],
   "source": [
    "test_pred = classifier.predict(test_X)\n",
    "test_accuracy = multiclass_accuracy(test_pred, test_y)\n",
    "print('Linear softmax classifier test set accuracy: %f' % (test_accuracy, ))"
   ]
  },
  {
   "source": [
    "## Experiments"
   ],
   "cell_type": "markdown",
   "metadata": {}
  },
  {
   "cell_type": "code",
   "execution_count": null,
   "metadata": {},
   "outputs": [],
   "source": [
    "A = np.array([[10,20,30,40],[1,2,3,4]])"
   ]
  },
  {
   "cell_type": "code",
   "execution_count": null,
   "metadata": {
    "tags": []
   },
   "outputs": [],
   "source": [
    "it = np.nditer(A, flags=['multi_index'], op_flags=['readwrite'])\n",
    "while not it.finished:\n",
    "    ix = it.multi_index\n",
    "    print(ix)\n",
    "    it.iternext()"
   ]
  },
  {
   "cell_type": "code",
   "execution_count": 100,
   "metadata": {},
   "outputs": [
    {
     "output_type": "execute_result",
     "data": {
      "text/plain": [
       "array([[9.35719813e-14, 2.06106005e-09, 4.53978686e-05, 9.99954600e-01],\n",
       "       [3.20586033e-02, 8.71443187e-02, 2.36882818e-01, 6.43914260e-01]])"
      ]
     },
     "metadata": {},
     "execution_count": 100
    }
   ],
   "source": [
    "linear_classifer.softmax(A)"
   ]
  },
  {
   "cell_type": "code",
   "execution_count": 101,
   "metadata": {},
   "outputs": [
    {
     "output_type": "execute_result",
     "data": {
      "text/plain": [
       "array([0.0320586 , 0.08714432, 0.23688282, 0.64391426])"
      ]
     },
     "metadata": {},
     "execution_count": 101
    }
   ],
   "source": [
    "linear_classifer.softmax(A[1])"
   ]
  },
  {
   "cell_type": "code",
   "execution_count": 102,
   "metadata": {},
   "outputs": [
    {
     "output_type": "execute_result",
     "data": {
      "text/plain": [
       "array([[-30, -20, -10,   0],\n",
       "       [ -3,  -2,  -1,   0]])"
      ]
     },
     "metadata": {},
     "execution_count": 102
    }
   ],
   "source": [
    "A - np.max(A, axis=1)[:,np.newaxis]"
   ]
  },
  {
   "cell_type": "code",
   "execution_count": 30,
   "metadata": {},
   "outputs": [
    {
     "output_type": "error",
     "ename": "AttributeError",
     "evalue": "'numpy.ndarray' object has no attribute 'dim'",
     "traceback": [
      "\u001b[0;31m---------------------------------------------------------------------------\u001b[0m",
      "\u001b[0;31mAttributeError\u001b[0m                            Traceback (most recent call last)",
      "\u001b[0;32m<ipython-input-30-9ee522523dde>\u001b[0m in \u001b[0;36m<module>\u001b[0;34m\u001b[0m\n\u001b[0;32m----> 1\u001b[0;31m \u001b[0mA\u001b[0m\u001b[0;34m[\u001b[0m\u001b[0;36m1\u001b[0m\u001b[0;34m]\u001b[0m\u001b[0;34m.\u001b[0m\u001b[0mdim\u001b[0m\u001b[0;34m,\u001b[0m \u001b[0mA\u001b[0m\u001b[0;34m.\u001b[0m\u001b[0mshape\u001b[0m\u001b[0;34m\u001b[0m\u001b[0;34m\u001b[0m\u001b[0m\n\u001b[0m",
      "\u001b[0;31mAttributeError\u001b[0m: 'numpy.ndarray' object has no attribute 'dim'"
     ]
    }
   ],
   "source": [
    "A[1].dim, A.shape"
   ]
  },
  {
   "cell_type": "code",
   "execution_count": 45,
   "metadata": {},
   "outputs": [
    {
     "output_type": "execute_result",
     "data": {
      "text/plain": [
       "array([[0, 0],\n",
       "       [0, 1],\n",
       "       [0, 0],\n",
       "       [1, 0]])"
      ]
     },
     "metadata": {},
     "execution_count": 45
    }
   ],
   "source": [
    "t = np.array([[0,0,0,1],[0,1,0,0] ])\n",
    "t.T"
   ]
  },
  {
   "cell_type": "code",
   "execution_count": 47,
   "metadata": {},
   "outputs": [
    {
     "output_type": "execute_result",
     "data": {
      "text/plain": [
       "array([[9.99954600e-01, 2.06106005e-09],\n",
       "       [6.43914260e-01, 8.71443187e-02]])"
      ]
     },
     "metadata": {},
     "execution_count": 47
    }
   ],
   "source": [
    "B.dot(t.T)"
   ]
  },
  {
   "cell_type": "code",
   "execution_count": 49,
   "metadata": {},
   "outputs": [
    {
     "output_type": "execute_result",
     "data": {
      "text/plain": [
       "array([[0.        , 0.        , 0.        , 0.9999546 ],\n",
       "       [0.        , 0.08714432, 0.        , 0.        ]])"
      ]
     },
     "metadata": {},
     "execution_count": 49
    }
   ],
   "source": [
    "np.multiply(B, t)"
   ]
  },
  {
   "cell_type": "code",
   "execution_count": 59,
   "metadata": {},
   "outputs": [
    {
     "output_type": "execute_result",
     "data": {
      "text/plain": [
       "array([[0., 0., 0., 0.],\n",
       "       [0., 0., 0., 0.]])"
      ]
     },
     "metadata": {},
     "execution_count": 59
    }
   ],
   "source": [
    "Z = np.zeros_like(B)\n",
    "Z"
   ]
  },
  {
   "cell_type": "code",
   "execution_count": 62,
   "metadata": {},
   "outputs": [
    {
     "output_type": "execute_result",
     "data": {
      "text/plain": [
       "array([[0., 1., 0., 0.],\n",
       "       [0., 0., 0., 1.]])"
      ]
     },
     "metadata": {},
     "execution_count": 62
    }
   ],
   "source": [
    "b=np.array([1])\n",
    "\n",
    "Z[np.arange(len(b)), b]=1\n",
    "Z\n"
   ]
  },
  {
   "cell_type": "code",
   "execution_count": 73,
   "metadata": {},
   "outputs": [
    {
     "output_type": "execute_result",
     "data": {
      "text/plain": [
       "-3"
      ]
     },
     "metadata": {},
     "execution_count": 73
    }
   ],
   "source": [
    "np.min(A[1], axis=-1)"
   ]
  },
  {
   "cell_type": "code",
   "execution_count": 76,
   "metadata": {},
   "outputs": [
    {
     "output_type": "execute_result",
     "data": {
      "text/plain": [
       "array([[ 0.5       ,  0.33333333,  0.16666667, -0.        ],\n",
       "       [ 0.5       ,  0.33333333,  0.16666667, -0.        ]])"
      ]
     },
     "metadata": {},
     "execution_count": 76
    }
   ],
   "source": [
    "\n",
    "A -= np.max(A, axis=-1)[:,np.newaxis]\n",
    "A/np.sum(A, axis=-1)[:,None]"
   ]
  },
  {
   "cell_type": "code",
   "execution_count": 88,
   "metadata": {},
   "outputs": [
    {
     "output_type": "execute_result",
     "data": {
      "text/plain": [
       "array([1, 2, 3, 4])"
      ]
     },
     "metadata": {},
     "execution_count": 88
    }
   ],
   "source": [
    "np.squeeze(np.array([1,2,3,4])[np.newaxis,:])"
   ]
  },
  {
   "cell_type": "code",
   "execution_count": 89,
   "metadata": {},
   "outputs": [
    {
     "output_type": "execute_result",
     "data": {
      "text/plain": [
       "array([[0., 1., 0., 0.],\n",
       "       [0., 0., 0., 1.]])"
      ]
     },
     "metadata": {},
     "execution_count": 89
    }
   ],
   "source": [
    "np.squeeze(Z)"
   ]
  },
  {
   "cell_type": "code",
   "execution_count": 121,
   "metadata": {},
   "outputs": [
    {
     "output_type": "execute_result",
     "data": {
      "text/plain": [
       "4.5398899564764524e-05"
      ]
     },
     "metadata": {},
     "execution_count": 121
    }
   ],
   "source": [
    "probs = linear_classifer.softmax(np.array([[55, 0, 45], [33,3,4]]))\n",
    "target_index = [0,0]\n",
    "px = np.zeros_like(probs)\n",
    "if len(px.shape) == 1:\n",
    "    px[target_index] = 1\n",
    "else:\n",
    "    px[np.arange(px.shape[0]), target_index] = 1\n",
    "\n",
    "- np.sum(np.multiply(np.log(probs), px))"
   ]
  },
  {
   "cell_type": "code",
   "execution_count": 110,
   "metadata": {},
   "outputs": [
    {
     "output_type": "execute_result",
     "data": {
      "text/plain": [
       "array([0., 1., 0.])"
      ]
     },
     "metadata": {},
     "execution_count": 110
    }
   ],
   "source": [
    "px"
   ]
  },
  {
   "cell_type": "code",
   "execution_count": 111,
   "metadata": {},
   "outputs": [
    {
     "output_type": "execute_result",
     "data": {
      "text/plain": [
       "array([4.50940412e-05, 6.69254912e-03, 9.93262357e-01])"
      ]
     },
     "metadata": {},
     "execution_count": 111
    }
   ],
   "source": [
    "probs"
   ]
  },
  {
   "cell_type": "code",
   "execution_count": 112,
   "metadata": {},
   "outputs": [
    {
     "output_type": "execute_result",
     "data": {
      "text/plain": [
       "array([0.        , 0.00669255, 0.        ])"
      ]
     },
     "metadata": {},
     "execution_count": 112
    }
   ],
   "source": [
    "np.multiply(probs, px)"
   ]
  },
  {
   "cell_type": "code",
   "execution_count": 141,
   "metadata": {},
   "outputs": [
    {
     "output_type": "execute_result",
     "data": {
      "text/plain": [
       "(3.3783295551500574,\n",
       " array([[ 0.17488009, -0.82511991,  0.17488803,  0.47535179],\n",
       "        [-0.80498422,  0.20605975,  0.23934468,  0.3595798 ]]))"
      ]
     },
     "metadata": {},
     "execution_count": 141
    }
   ],
   "source": [
    "linear_classifer.softmax_with_cross_entropy(np.array(B), [1,0])"
   ]
  },
  {
   "cell_type": "code",
   "execution_count": 146,
   "metadata": {},
   "outputs": [
    {
     "output_type": "stream",
     "name": "stdout",
     "text": [
      "[[9.35719813e-14 2.06106005e-09 4.53978686e-05 9.99954600e-01]\n [3.20586033e-02 8.71443187e-02 2.36882818e-01 6.43914260e-01]]\n[[9.35719813e-14 2.06106005e-09 4.53978686e-05 9.99954600e-01]\n [3.20586033e-02 8.71443187e-02 2.36882818e-01 6.43914260e-01]]\nGradient check passed!\n"
     ]
    },
    {
     "output_type": "execute_result",
     "data": {
      "text/plain": [
       "True"
      ]
     },
     "metadata": {},
     "execution_count": 146
    }
   ],
   "source": [
    "check_gradient(lambda x: linear_classifer.softmax_with_cross_entropy(x, [1,0]), B)"
   ]
  },
  {
   "cell_type": "code",
   "execution_count": 147,
   "metadata": {},
   "outputs": [
    {
     "output_type": "execute_result",
     "data": {
      "text/plain": [
       "array([[-9.99999991e-06, -9.99793894e-06,  3.53978686e-05,\n",
       "         9.99944600e-01],\n",
       "       [ 3.20486033e-02,  8.71343187e-02,  2.36872818e-01,\n",
       "         6.43904260e-01]])"
      ]
     },
     "metadata": {},
     "execution_count": 147
    }
   ],
   "source": [
    "B"
   ]
  },
  {
   "cell_type": "code",
   "execution_count": 159,
   "metadata": {},
   "outputs": [
    {
     "output_type": "execute_result",
     "data": {
      "text/plain": [
       "array([[ 0, -1,  0,  2],\n",
       "       [ 2,  0,  0,  0],\n",
       "       [ 2,  2, -1, -1]])"
      ]
     },
     "metadata": {},
     "execution_count": 159
    }
   ],
   "source": [
    "np.random.randint(-1, 3, size=(batch_size, num_classes))"
   ]
  },
  {
   "cell_type": "code",
   "execution_count": 167,
   "metadata": {},
   "outputs": [
    {
     "output_type": "execute_result",
     "data": {
      "text/plain": [
       "array([[-30, -20, -10,   0],\n",
       "       [ -3,  -2,  -1,   0]])"
      ]
     },
     "metadata": {},
     "execution_count": 167
    }
   ],
   "source": [
    "A"
   ]
  },
  {
   "cell_type": "code",
   "execution_count": 242,
   "metadata": {},
   "outputs": [
    {
     "output_type": "stream",
     "name": "stdout",
     "text": [
      "[[9.35719813e-14 2.06106005e-09 4.53978686e-05 9.99954600e-01]\n [3.20586033e-02 8.71443187e-02 2.36882818e-01 6.43914260e-01]\n [6.43914260e-01 2.36882818e-01 8.71443187e-02 3.20586033e-02]]\n"
     ]
    },
    {
     "output_type": "error",
     "ename": "AttributeError",
     "evalue": "'list' object has no attribute 'flatten'",
     "traceback": [
      "\u001b[0;31m---------------------------------------------------------------------------\u001b[0m",
      "\u001b[0;31mAttributeError\u001b[0m                            Traceback (most recent call last)",
      "\u001b[0;32m<ipython-input-242-15e1c4484066>\u001b[0m in \u001b[0;36m<module>\u001b[0;34m\u001b[0m\n\u001b[1;32m      7\u001b[0m \u001b[0mprobs\u001b[0m \u001b[0;34m=\u001b[0m \u001b[0mlinear_classifer\u001b[0m\u001b[0;34m.\u001b[0m\u001b[0msoftmax\u001b[0m\u001b[0;34m(\u001b[0m\u001b[0mA\u001b[0m\u001b[0;34m)\u001b[0m\u001b[0;34m\u001b[0m\u001b[0;34m\u001b[0m\u001b[0m\n\u001b[1;32m      8\u001b[0m \u001b[0mprint\u001b[0m\u001b[0;34m(\u001b[0m\u001b[0mprobs\u001b[0m\u001b[0;34m)\u001b[0m\u001b[0;34m\u001b[0m\u001b[0;34m\u001b[0m\u001b[0m\n\u001b[0;32m----> 9\u001b[0;31m \u001b[0mloss\u001b[0m \u001b[0;34m=\u001b[0m \u001b[0mlinear_classifer\u001b[0m\u001b[0;34m.\u001b[0m\u001b[0mcross_entropy_loss\u001b[0m\u001b[0;34m(\u001b[0m\u001b[0mprobs\u001b[0m\u001b[0;34m,\u001b[0m\u001b[0mtarget_index\u001b[0m\u001b[0;34m)\u001b[0m\u001b[0;34m\u001b[0m\u001b[0;34m\u001b[0m\u001b[0m\n\u001b[0m\u001b[1;32m     10\u001b[0m \u001b[0mprint\u001b[0m\u001b[0;34m(\u001b[0m\u001b[0mloss\u001b[0m\u001b[0;34m)\u001b[0m\u001b[0;34m\u001b[0m\u001b[0;34m\u001b[0m\u001b[0m\n\u001b[1;32m     11\u001b[0m \u001b[0;34m\u001b[0m\u001b[0m\n",
      "\u001b[0;32m~/git_repos/dlcourse_ai/assignments/assignment1/linear_classifer.py\u001b[0m in \u001b[0;36mcross_entropy_loss\u001b[0;34m(probs, target_index)\u001b[0m\n\u001b[1;32m     49\u001b[0m     \u001b[0;32melse\u001b[0m\u001b[0;34m:\u001b[0m\u001b[0;34m\u001b[0m\u001b[0;34m\u001b[0m\u001b[0m\n\u001b[1;32m     50\u001b[0m       \u001b[0mbatch_size\u001b[0m \u001b[0;34m=\u001b[0m \u001b[0mpx\u001b[0m\u001b[0;34m.\u001b[0m\u001b[0mshape\u001b[0m\u001b[0;34m[\u001b[0m\u001b[0;36m0\u001b[0m\u001b[0;34m]\u001b[0m\u001b[0;34m\u001b[0m\u001b[0;34m\u001b[0m\u001b[0m\n\u001b[0;32m---> 51\u001b[0;31m       \u001b[0mpx\u001b[0m\u001b[0;34m[\u001b[0m\u001b[0mnp\u001b[0m\u001b[0;34m.\u001b[0m\u001b[0marange\u001b[0m\u001b[0;34m(\u001b[0m\u001b[0mbatch_size\u001b[0m\u001b[0;34m)\u001b[0m\u001b[0;34m,\u001b[0m \u001b[0mtarget_index\u001b[0m\u001b[0;34m.\u001b[0m\u001b[0mflatten\u001b[0m\u001b[0;34m(\u001b[0m\u001b[0;34m)\u001b[0m\u001b[0;34m]\u001b[0m \u001b[0;34m=\u001b[0m \u001b[0;36m1\u001b[0m\u001b[0;34m\u001b[0m\u001b[0;34m\u001b[0m\u001b[0m\n\u001b[0m\u001b[1;32m     52\u001b[0m \u001b[0;34m\u001b[0m\u001b[0m\n\u001b[1;32m     53\u001b[0m     \u001b[0;32mreturn\u001b[0m \u001b[0;34m-\u001b[0m \u001b[0mnp\u001b[0m\u001b[0;34m.\u001b[0m\u001b[0msum\u001b[0m\u001b[0;34m(\u001b[0m\u001b[0mnp\u001b[0m\u001b[0;34m.\u001b[0m\u001b[0mlog\u001b[0m\u001b[0;34m(\u001b[0m\u001b[0mprobs\u001b[0m\u001b[0;34m)\u001b[0m\u001b[0;34m*\u001b[0m \u001b[0mpx\u001b[0m\u001b[0;34m)\u001b[0m\u001b[0;34m\u001b[0m\u001b[0;34m\u001b[0m\u001b[0m\n",
      "\u001b[0;31mAttributeError\u001b[0m: 'list' object has no attribute 'flatten'"
     ]
    }
   ],
   "source": [
    "A = np.array([[-30, -20, -10,   0],\n",
    "       [ -3,  -2,  -1,   0],\n",
    "       [ 3,  2,  1,   0]])\n",
    "\n",
    "target_index = [1,1,0]\n",
    "\n",
    "probs = linear_classifer.softmax(A)\n",
    "print(probs)\n",
    "loss = linear_classifer.cross_entropy_loss(probs,target_index)\n",
    "print(loss)\n",
    "\n",
    "\n",
    "px = np.zeros_like(probs)\n",
    "if len(px.shape) == 1:\n",
    "    px[target_index] = 1\n",
    "else:\n",
    "    px[np.arange(px.shape[0]), target_index] = 1\n",
    "\n",
    "print(px)\n",
    "\n",
    "dprediction = np.multiply(-(1-probs),px)\n",
    "print(dprediction)\n"
   ]
  },
  {
   "cell_type": "code",
   "execution_count": 241,
   "metadata": {},
   "outputs": [
    {
     "output_type": "stream",
     "name": "stdout",
     "text": [
      "(3, 4)\n(3, 4)\nGradients are SAME at (0, 0). Analytic: -1.00000, Numeric: -1.00000\nGradients are SAME at (0, 1). Analytic: 0.00000, Numeric: 0.00000\nGradients are SAME at (0, 2). Analytic: 0.00005, Numeric: 0.00005\nGradients are SAME at (0, 3). Analytic: 0.99995, Numeric: 0.99995\nGradients are SAME at (1, 0). Analytic: -0.96794, Numeric: -0.96794\nGradients are SAME at (1, 1). Analytic: 0.08714, Numeric: 0.08714\nGradients are SAME at (1, 2). Analytic: 0.23688, Numeric: 0.23688\nGradients are SAME at (1, 3). Analytic: 0.64391, Numeric: 0.64392\nGradients are SAME at (2, 0). Analytic: 0.64391, Numeric: 0.64391\nGradients are SAME at (2, 1). Analytic: 0.23688, Numeric: 0.23688\nGradients are SAME at (2, 2). Analytic: -0.91286, Numeric: -0.91285\nGradients are SAME at (2, 3). Analytic: 0.03206, Numeric: 0.03206\nGradient check passed!\n"
     ]
    },
    {
     "output_type": "execute_result",
     "data": {
      "text/plain": [
       "True"
      ]
     },
     "metadata": {},
     "execution_count": 241
    }
   ],
   "source": [
    "check_gradient(lambda x: linear_classifer.softmax_with_cross_entropy(x, target_index), A.astype(np.float))\n"
   ]
  },
  {
   "cell_type": "code",
   "execution_count": 240,
   "metadata": {},
   "outputs": [
    {
     "output_type": "stream",
     "name": "stdout",
     "text": [
      "(4,)\n(4,)\nGradients are SAME at (0,). Analytic: -0.96794, Numeric: -0.96794\nGradients are SAME at (1,). Analytic: 0.08714, Numeric: 0.08714\nGradients are SAME at (2,). Analytic: 0.23688, Numeric: 0.23688\nGradients are SAME at (3,). Analytic: 0.64391, Numeric: 0.64392\nGradient check passed!\n"
     ]
    },
    {
     "output_type": "execute_result",
     "data": {
      "text/plain": [
       "True"
      ]
     },
     "metadata": {},
     "execution_count": 240
    }
   ],
   "source": [
    "check_gradient(lambda x: linear_classifer.softmax_with_cross_entropy(x, target_index[1]), A[1].astype(np.float))"
   ]
  },
  {
   "cell_type": "code",
   "execution_count": 239,
   "metadata": {},
   "outputs": [
    {
     "output_type": "stream",
     "name": "stdout",
     "text": [
      "[[0]\n [0]\n [2]]\n(3, 4)\n(3, 4)\nGradients are SAME at (0, 0). Analytic: -0.80339, Numeric: -0.80339\nGradients are SAME at (0, 1). Analytic: 0.07233, Numeric: 0.07233\nGradients are SAME at (0, 2). Analytic: 0.19661, Numeric: 0.19661\nGradients are SAME at (0, 3). Analytic: 0.53445, Numeric: 0.53445\nGradients are SAME at (1, 0). Analytic: -0.84784, Numeric: -0.84784\nGradients are SAME at (1, 1). Analytic: 0.41362, Numeric: 0.41362\nGradients are SAME at (1, 2). Analytic: 0.41362, Numeric: 0.41362\nGradients are SAME at (1, 3). Analytic: 0.02059, Numeric: 0.02059\nGradients are SAME at (2, 0). Analytic: 0.31895, Numeric: 0.31895\nGradients are SAME at (2, 1). Analytic: 0.04316, Numeric: 0.04316\nGradients are SAME at (2, 2). Analytic: -0.68105, Numeric: -0.68105\nGradients are SAME at (2, 3). Analytic: 0.31895, Numeric: 0.31895\nGradient check passed!\n"
     ]
    },
    {
     "output_type": "execute_result",
     "data": {
      "text/plain": [
       "True"
      ]
     },
     "metadata": {},
     "execution_count": 239
    }
   ],
   "source": [
    "# Test batch_size = 3\n",
    "num_classes = 4\n",
    "batch_size = 3\n",
    "predictions = np.random.randint(-1, 3, size=(batch_size, num_classes)).astype(np.float)\n",
    "target_index = np.random.randint(0, num_classes, size=(batch_size, 1)).astype(np.int)\n",
    "print(target_index)\n",
    "\n",
    "target_index\n",
    "check_gradient(lambda x: linear_classifer.softmax_with_cross_entropy(x, target_index), predictions)\n"
   ]
  },
  {
   "cell_type": "code",
   "execution_count": 238,
   "metadata": {},
   "outputs": [
    {
     "output_type": "execute_result",
     "data": {
      "text/plain": [
       "array([2, 1, 1])"
      ]
     },
     "metadata": {},
     "execution_count": 238
    }
   ],
   "source": [
    "target_index.flatten()"
   ]
  },
  {
   "cell_type": "code",
   "execution_count": 272,
   "metadata": {},
   "outputs": [
    {
     "output_type": "execute_result",
     "data": {
      "text/plain": [
       "array([[-30, -20, -10,   0],\n",
       "       [ -3,  -2,  -1,   0],\n",
       "       [  3,   2,   1,   0]])"
      ]
     },
     "metadata": {},
     "execution_count": 272
    }
   ],
   "source": [
    "A"
   ]
  },
  {
   "cell_type": "code",
   "execution_count": 274,
   "metadata": {},
   "outputs": [
    {
     "output_type": "execute_result",
     "data": {
      "text/plain": [
       "array([3, 3, 0])"
      ]
     },
     "metadata": {},
     "execution_count": 274
    }
   ],
   "source": [
    "np.argmax(A, axis=1)"
   ]
  },
  {
   "cell_type": "code",
   "execution_count": null,
   "metadata": {},
   "outputs": [],
   "source": []
  }
 ],
 "metadata": {
  "kernelspec": {
   "display_name": "Python 3",
   "language": "python",
   "name": "python3"
  },
  "language_info": {
   "codemirror_mode": {
    "name": "ipython",
    "version": 3
   },
   "file_extension": ".py",
   "mimetype": "text/x-python",
   "name": "python",
   "nbconvert_exporter": "python",
   "pygments_lexer": "ipython3",
   "version": "3.8.1-final"
  }
 },
 "nbformat": 4,
 "nbformat_minor": 2
}